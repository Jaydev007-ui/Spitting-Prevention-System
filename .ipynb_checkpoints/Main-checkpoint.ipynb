{
 "cells": [
  {
   "cell_type": "code",
   "execution_count": 1,
   "id": "3a8cd226-fc91-4f51-9abb-323ab3409580",
   "metadata": {},
   "outputs": [
    {
     "name": "stdout",
     "output_type": "stream",
     "text": [
      "Downloading from https://www.kaggle.com/api/v1/datasets/download/atulanandjha/lfwpeople?dataset_version_number=3...\n"
     ]
    },
    {
     "name": "stderr",
     "output_type": "stream",
     "text": [
      "100%|███████████████████████████████████████████████████████████████████████████████| 232M/232M [00:16<00:00, 14.6MB/s]"
     ]
    },
    {
     "name": "stdout",
     "output_type": "stream",
     "text": [
      "Extracting files...\n"
     ]
    },
    {
     "name": "stderr",
     "output_type": "stream",
     "text": [
      "\n"
     ]
    },
    {
     "name": "stdout",
     "output_type": "stream",
     "text": [
      "Path to dataset files: C:\\Users\\neelo\\.cache\\kagglehub\\datasets\\atulanandjha\\lfwpeople\\versions\\3\n"
     ]
    }
   ],
   "source": [
    "import kagglehub\n",
    "\n",
    "# Download latest version\n",
    "path = kagglehub.dataset_download(\"atulanandjha/lfwpeople\")\n",
    "\n",
    "print(\"Path to dataset files:\", path)"
   ]
  },
  {
   "cell_type": "code",
   "execution_count": 3,
   "id": "6ec36f78-980a-4169-aea4-38e5b9eeaf84",
   "metadata": {},
   "outputs": [],
   "source": [
    "import os\n",
    "import shutil\n",
    "\n",
    "def consolidate_images(source_folder, target_folder, image_extensions=['.jpg', '.jpeg', '.png', '.gif']):\n",
    "    # Create the target folder if it doesn't exist\n",
    "    if not os.path.exists(target_folder):\n",
    "        os.makedirs(target_folder)\n",
    "\n",
    "    # Walk through the source folder\n",
    "    for root, dirs, files in os.walk(source_folder):\n",
    "        for file in files:\n",
    "            # Check for image file extensions\n",
    "            if any(file.lower().endswith(ext) for ext in image_extensions):\n",
    "                source_path = os.path.join(root, file)\n",
    "                target_path = os.path.join(target_folder, file)\n",
    "\n",
    "                # Handle duplicate files\n",
    "                if os.path.exists(target_path):\n",
    "                    base, extension = os.path.splitext(file)\n",
    "                    counter = 1\n",
    "                    while os.path.exists(target_path):\n",
    "                        target_path = os.path.join(target_folder, f\"{base}_{counter}{extension}\")\n",
    "                        counter += 1\n",
    "\n",
    "                # Copy the file to the target folder\n",
    "                shutil.copy2(source_path, target_path)\n",
    "\n",
    "# Usage\n",
    "source_folder = 'lfw_funneled'  # Replace with your source folder path\n",
    "target_folder = 'Images'  # Replace with your target folder path\n",
    "\n",
    "consolidate_images(source_folder, target_folder)"
   ]
  },
  {
   "cell_type": "code",
   "execution_count": null,
   "id": "932568a1-5561-459a-8f70-0a5a9214a4a4",
   "metadata": {},
   "outputs": [],
   "source": []
  }
 ],
 "metadata": {
  "kernelspec": {
   "display_name": "Python 3 (ipykernel)",
   "language": "python",
   "name": "python3"
  },
  "language_info": {
   "codemirror_mode": {
    "name": "ipython",
    "version": 3
   },
   "file_extension": ".py",
   "mimetype": "text/x-python",
   "name": "python",
   "nbconvert_exporter": "python",
   "pygments_lexer": "ipython3",
   "version": "3.11.7"
  }
 },
 "nbformat": 4,
 "nbformat_minor": 5
}
